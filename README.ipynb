{
 "cells": [
  {
   "cell_type": "markdown",
   "metadata": {},
   "source": [
    "# ZEN DE PYTHON\n",
    "\n",
    "Este se puede ver en cualquier momento poniendo lo siguiente:\n",
    "- import this"
   ]
  },
  {
   "cell_type": "code",
   "execution_count": 1,
   "metadata": {},
   "outputs": [
    {
     "name": "stdout",
     "output_type": "stream",
     "text": [
      "The Zen of Python, by Tim Peters\n",
      "\n",
      "Beautiful is better than ugly.\n",
      "Explicit is better than implicit.\n",
      "Simple is better than complex.\n",
      "Complex is better than complicated.\n",
      "Flat is better than nested.\n",
      "Sparse is better than dense.\n",
      "Readability counts.\n",
      "Special cases aren't special enough to break the rules.\n",
      "Although practicality beats purity.\n",
      "Errors should never pass silently.\n",
      "Unless explicitly silenced.\n",
      "In the face of ambiguity, refuse the temptation to guess.\n",
      "There should be one-- and preferably only one --obvious way to do it.\n",
      "Although that way may not be obvious at first unless you're Dutch.\n",
      "Now is better than never.\n",
      "Although never is often better than *right* now.\n",
      "If the implementation is hard to explain, it's a bad idea.\n",
      "If the implementation is easy to explain, it may be a good idea.\n",
      "Namespaces are one honking great idea -- let's do more of those!\n"
     ]
    }
   ],
   "source": [
    "import this"
   ]
  },
  {
   "cell_type": "markdown",
   "metadata": {},
   "source": [
    "# Entornos Virtuales\n",
    "\n",
    "Como sabemos un entorno virtual nos ayuda a trabajar en un entorno separado al normal para modificar dependencias a nuestro gusto.\n",
    "\n",
    "Para activar de forma normal un entorno virtual podemos poner el siguiente comando:\n",
    "\n",
    "python3 -m venv \"nombre del venv sin comillas\"\n",
    "\n",
    "Para activar el entorno virtual que creamos ponemos el siguiente comando:\n",
    "\n",
    "source venv/bin/activate\n",
    "\n",
    "Cree un alias para activar más rapido el comando.\n",
    "Este se llama avenv."
   ]
  },
  {
   "cell_type": "markdown",
   "metadata": {},
   "source": [
    "PIP\n",
    "\n",
    "Package Installer for Python, esto nos ayuda a instalar dependencias de python que son externas de python. Es buena practica crear un archivo donde pongamos todas nuestras dependencias con el comando:\n",
    "\n",
    "- pip freeze > requirements.txt\n",
    "\n",
    "el comando freeze nos dice que dependencias tenemos instaladas."
   ]
  },
  {
   "cell_type": "markdown",
   "metadata": {},
   "source": [
    "# LIST COMPRENHENSIONS\n",
    "\n",
    "Estos nos ayudan a iterar por una lista o a crear una lista con los valores que le digamos.\n",
    "\n",
    "- [element for element in iterable if condition]\n",
    "\n",
    "\n",
    "- element:\n",
    "    - Representa a cada uno de los elementos a poner en la nueva lista\n",
    "\n",
    "\n",
    "- for element in iterable:\n",
    "    - Ciclo a partir del cual se extraerán elementos de otra lista o cualquier iterable\n",
    "\n",
    "\n",
    "- if condition:\n",
    "    - Condición opcional para filtrar los elementos del ciclo"
   ]
  },
  {
   "cell_type": "code",
   "execution_count": 4,
   "metadata": {},
   "outputs": [
    {
     "name": "stdout",
     "output_type": "stream",
     "text": [
      "[1, 4, 16, 25, 49, 64, 100, 121, 169, 196, 256, 289, 361, 400, 484, 529, 625, 676, 784, 841, 961, 1024, 1156, 1225, 1369, 1444, 1600, 1681, 1849, 1936, 2116, 2209, 2401, 2500, 2704, 2809, 3025, 3136, 3364, 3481, 3721, 3844, 4096, 4225, 4489, 4624, 4900, 5041, 5329, 5476, 5776, 5929, 6241, 6400, 6724, 6889, 7225, 7396, 7744, 7921, 8281, 8464, 8836, 9025, 9409, 9604, 10000]\n"
     ]
    }
   ],
   "source": [
    "squares = [i**2 for i in range(1,101) if i % 3 != 0]\n",
    "print(squares)"
   ]
  },
  {
   "cell_type": "markdown",
   "metadata": {},
   "source": [
    "#  RETO 1\n",
    "\n",
    "Crear con un list comprenhension, una lista de todos los múltiplos de 5 que a la vez también son múltiplos de 6 y 9, hasta 5 dígitos."
   ]
  },
  {
   "cell_type": "code",
   "execution_count": null,
   "metadata": {},
   "outputs": [],
   "source": [
    "reto = [i for i in range(1, 10000) if i % 4 == 0 and i % 6 == 0 and i % 9 == 0]\n",
    "print(reto)"
   ]
  },
  {
   "cell_type": "markdown",
   "metadata": {},
   "source": [
    "# DICTIONARY COMPRENHENSIONS\n",
    "\n",
    "Ahora el ejercicio es tomar los numeros naturales del 1 al 100 y multiplicar cada uno de sus valores y guardarlos en un dictionary. Esto lo hice así:"
   ]
  },
  {
   "cell_type": "code",
   "execution_count": null,
   "metadata": {},
   "outputs": [],
   "source": [
    "list1 = {}\n",
    "\n",
    "for values in range(1, 101):\n",
    "    list1[values] = values ** 3\n",
    "\n",
    "print(list1)"
   ]
  },
  {
   "cell_type": "markdown",
   "metadata": {},
   "source": [
    "Ahora quiere que solo se impriman los numeros que no sean divisibles entre 3."
   ]
  },
  {
   "cell_type": "code",
   "execution_count": null,
   "metadata": {},
   "outputs": [],
   "source": [
    "list1 = {}\n",
    "\n",
    "for values in range(1, 101):\n",
    "    if values %3 != 0:\n",
    "        list1[values] = values ** 3\n",
    "\n",
    "print(list1)"
   ]
  },
  {
   "cell_type": "markdown",
   "metadata": {},
   "source": [
    "Ahora utilizando dictionary comprehensions "
   ]
  },
  {
   "cell_type": "markdown",
   "metadata": {},
   "source": [
    "Donde tenemos que:\n",
    "\n",
    "- {key: value for value in iterable if condition}\n",
    "\n",
    "- key: value\n",
    "    Representa a cada una de las llaves y valores a poner en el nuevo diccionario.\n",
    "\n",
    "- for value in iterable\n",
    "    Ciclo a partir del cual se extraerán elementos de cualquier iterable.\n",
    "\n",
    "- if condition\n",
    "    Condición opcional para filtrar los elementos del ciclo."
   ]
  },
  {
   "cell_type": "code",
   "execution_count": null,
   "metadata": {},
   "outputs": [],
   "source": [
    "my_dict = {i: i**3 for i in range(1,101) if i % 3 != 0}\n",
    "\n",
    "print(my_dict)"
   ]
  },
  {
   "cell_type": "markdown",
   "metadata": {},
   "source": [
    "# Reto 2 \n",
    "\n",
    "Poner los numeros del 1 al 1000 y como valor la raiz cuadrada de cada uno de ellos."
   ]
  },
  {
   "cell_type": "code",
   "execution_count": null,
   "metadata": {},
   "outputs": [],
   "source": [
    "reto2 = {i: i**0.5 for i in range(1,1001)}\n",
    "\n",
    "print(reto2)"
   ]
  },
  {
   "cell_type": "markdown",
   "metadata": {},
   "source": [
    "# LAMBDAS\n",
    "\n",
    "Estas son un tipo de función que no tiene nombre, o sea una función anónima.\n",
    "\n",
    "Su estructura es la siguiente:\n",
    "\n",
    "- lambda argumentos: expresión\n",
    "\n",
    "Solo puede tener una linea de código.\n",
    "\n",
    "Ejemplo:\n",
    "\n",
    "palindrome = lambda string: string == string[::-1]\n",
    "\n",
    "print(palindrome('ana'))\n",
    "\n",
    "palindrome es un objeto tipo función\n",
    "\n",
    "# HIGH ORDER FUNCTION\n",
    "\n",
    "Es una función que recibe como parámetro a otra función.\n",
    "\n",
    "Ejemplo:\n",
    "\n",
    "def saludo(func):\n",
    "    func()\n",
    "\n",
    "def hola():\n",
    "    print(\"Hola!!\")\n",
    "\n",
    "def adios():\n",
    "    print(\"Adios!!!\")\n",
    "\n",
    "saludo(hola)\n",
    "saludo(adios)\n",
    "\n",
    "# filter\n",
    "\n",
    "my_list = [1,4,5,6,9,13,19,21]\n",
    "\n",
    "odd = list(filter(lambda x: x%2 !=0, my_list))\n",
    "\n",
    "print(odd)\n"
   ]
  },
  {
   "cell_type": "code",
   "execution_count": 14,
   "metadata": {},
   "outputs": [
    {
     "name": "stdout",
     "output_type": "stream",
     "text": [
      "[1, 5, 9, 13, 19, 21]\n"
     ]
    }
   ],
   "source": [
    "my_list = [1,4,5,6,9,13,19,21]\n",
    "\n",
    "odd = list(filter(lambda x: x%2 !=0, my_list))\n",
    "\n",
    "print(odd)"
   ]
  },
  {
   "cell_type": "markdown",
   "metadata": {},
   "source": [
    "# map\n",
    "\n",
    "my_list = [1,2,3,4,5]\n",
    "\n",
    "squares = list(map(lambda x: x**2, my_list))\n",
    "\n",
    "print(squares)"
   ]
  },
  {
   "cell_type": "code",
   "execution_count": 15,
   "metadata": {},
   "outputs": [
    {
     "name": "stdout",
     "output_type": "stream",
     "text": [
      "[1, 4, 9, 16, 25]\n"
     ]
    }
   ],
   "source": [
    "my_list = [1,2,3,4,5]\n",
    "\n",
    "squares = list(map(lambda x: x**2, my_list))\n",
    "\n",
    "print(squares)"
   ]
  },
  {
   "cell_type": "markdown",
   "metadata": {},
   "source": [
    "# reduce\n",
    "\n",
    "\n",
    "Antes de aplicar reduce: \n",
    "my_list = [2, 2, 2, 2, 2, 2]\n",
    "\n",
    "all_multiplied = 1\n",
    "\n",
    "for i in my_list:\n",
    "    all_multiplied = all_multiplied * i\n",
    "\n",
    "print(all_multiplied)\n",
    "\n",
    "Con reduce:\n",
    "\n",
    "from functools import reduce\n",
    "\n",
    "my_list = [2, 2, 2, 2, 2, 2]\n",
    "\n",
    "all_multiplied = reduce(lambda a, b: a * b, my_list)\n",
    "\n",
    "print(all_multiplied)"
   ]
  },
  {
   "cell_type": "code",
   "execution_count": 17,
   "metadata": {},
   "outputs": [
    {
     "name": "stdout",
     "output_type": "stream",
     "text": [
      "32\n"
     ]
    }
   ],
   "source": [
    "my_list = [2, 2, 2, 2, 2]\n",
    "\n",
    "all_multiplied = 1\n",
    "\n",
    "for i in my_list:\n",
    "    all_multiplied = all_multiplied * i\n",
    "\n",
    "print(all_multiplied)"
   ]
  },
  {
   "cell_type": "code",
   "execution_count": 19,
   "metadata": {},
   "outputs": [
    {
     "name": "stdout",
     "output_type": "stream",
     "text": [
      "32\n"
     ]
    }
   ],
   "source": [
    "from functools import reduce\n",
    "\n",
    "my_list = [2, 2, 2, 2, 2]\n",
    "\n",
    "all_multiplied = reduce(lambda a, b: a * b, my_list)\n",
    "\n",
    "print(all_multiplied)"
   ]
  },
  {
   "cell_type": "markdown",
   "metadata": {},
   "source": [
    "# PROYECTO FILTRANDO DATOS\n",
    "\n"
   ]
  }
 ],
 "metadata": {
  "interpreter": {
   "hash": "6244d4f8580b39b73fd1a4ab3731bd00382a0ceaa090d4c77b1baf0467ffc9f6"
  },
  "kernelspec": {
   "display_name": "Python 3.9.7 64-bit ('py39': conda)",
   "name": "python3"
  },
  "language_info": {
   "codemirror_mode": {
    "name": "ipython",
    "version": 3
   },
   "file_extension": ".py",
   "mimetype": "text/x-python",
   "name": "python",
   "nbconvert_exporter": "python",
   "pygments_lexer": "ipython3",
   "version": "3.9.7"
  },
  "orig_nbformat": 4
 },
 "nbformat": 4,
 "nbformat_minor": 2
}
