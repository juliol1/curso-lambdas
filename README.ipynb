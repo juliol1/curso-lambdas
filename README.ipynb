{
 "cells": [
  {
   "cell_type": "markdown",
   "metadata": {},
   "source": [
    "# ZEN DE PYTHON\n",
    "\n",
    "Este se puede ver en cualquier momento poniendo lo siguiente:\n",
    "- import this"
   ]
  },
  {
   "cell_type": "code",
   "execution_count": 1,
   "metadata": {},
   "outputs": [
    {
     "name": "stdout",
     "output_type": "stream",
     "text": [
      "The Zen of Python, by Tim Peters\n",
      "\n",
      "Beautiful is better than ugly.\n",
      "Explicit is better than implicit.\n",
      "Simple is better than complex.\n",
      "Complex is better than complicated.\n",
      "Flat is better than nested.\n",
      "Sparse is better than dense.\n",
      "Readability counts.\n",
      "Special cases aren't special enough to break the rules.\n",
      "Although practicality beats purity.\n",
      "Errors should never pass silently.\n",
      "Unless explicitly silenced.\n",
      "In the face of ambiguity, refuse the temptation to guess.\n",
      "There should be one-- and preferably only one --obvious way to do it.\n",
      "Although that way may not be obvious at first unless you're Dutch.\n",
      "Now is better than never.\n",
      "Although never is often better than *right* now.\n",
      "If the implementation is hard to explain, it's a bad idea.\n",
      "If the implementation is easy to explain, it may be a good idea.\n",
      "Namespaces are one honking great idea -- let's do more of those!\n"
     ]
    }
   ],
   "source": [
    "import this"
   ]
  },
  {
   "cell_type": "markdown",
   "metadata": {},
   "source": [
    "# Entornos Virtuales\n",
    "\n",
    "Como sabemos un entorno virtual nos ayuda a trabajar en un entorno separado al normal para modificar dependencias a nuestro gusto.\n",
    "\n",
    "Para activar de forma normal un entorno virtual podemos poner el siguiente comando:\n",
    "\n",
    "python3 -m venv \"nombre del venv sin comillas\"\n",
    "\n",
    "Para activar el entorno virtual que creamos ponemos el siguiente comando:\n",
    "\n",
    "source venv/bin/activate\n",
    "\n",
    "Cree un alias para activar más rapido el comando.\n",
    "Este se llama avenv."
   ]
  },
  {
   "cell_type": "markdown",
   "metadata": {},
   "source": [
    "PIP\n",
    "\n",
    "Package Installer for Python, esto nos ayuda a instalar dependencias de python que son externas de python. Es buena practica crear un archivo donde pongamos todas nuestras dependencias con el comando:\n",
    "\n",
    "- pip freeze > requirements.txt\n",
    "\n",
    "el comando freeze nos dice que dependencias tenemos instaladas."
   ]
  }
 ],
 "metadata": {
  "interpreter": {
   "hash": "6244d4f8580b39b73fd1a4ab3731bd00382a0ceaa090d4c77b1baf0467ffc9f6"
  },
  "kernelspec": {
   "display_name": "Python 3.9.7 64-bit ('py39': conda)",
   "name": "python3"
  },
  "language_info": {
   "codemirror_mode": {
    "name": "ipython",
    "version": 3
   },
   "file_extension": ".py",
   "mimetype": "text/x-python",
   "name": "python",
   "nbconvert_exporter": "python",
   "pygments_lexer": "ipython3",
   "version": "3.9.7"
  },
  "orig_nbformat": 4
 },
 "nbformat": 4,
 "nbformat_minor": 2
}
